{
  "nbformat": 4,
  "nbformat_minor": 0,
  "metadata": {
    "colab": {
      "provenance": [],
      "authorship_tag": "ABX9TyO+H0s81k4BReaeXBTuoh5z",
      "include_colab_link": true
    },
    "kernelspec": {
      "name": "python3",
      "display_name": "Python 3"
    },
    "language_info": {
      "name": "python"
    }
  },
  "cells": [
    {
      "cell_type": "markdown",
      "metadata": {
        "id": "view-in-github",
        "colab_type": "text"
      },
      "source": [
        "<a href=\"https://colab.research.google.com/github/Abhishek21044/CODSOFT/blob/main/revision_and_practice.ipynb\" target=\"_parent\"><img src=\"https://colab.research.google.com/assets/colab-badge.svg\" alt=\"Open In Colab\"/></a>"
      ]
    },
    {
      "cell_type": "code",
      "execution_count": 1,
      "metadata": {
        "colab": {
          "base_uri": "https://localhost:8080/",
          "height": 35
        },
        "id": "bmlO98Iqqno5",
        "outputId": "1556b331-2ac3-4289-a459-d3ad84afc7ac"
      },
      "outputs": [
        {
          "output_type": "execute_result",
          "data": {
            "text/plain": [
              "'kehsihba'"
            ],
            "application/vnd.google.colaboratory.intrinsic+json": {
              "type": "string"
            }
          },
          "metadata": {},
          "execution_count": 1
        }
      ],
      "source": [
        "def rev_string(str):\n",
        "  return str[ ::-1]\n",
        "a=\"abhishek\"\n",
        "rev_string(a)"
      ]
    },
    {
      "cell_type": "code",
      "source": [
        "#reverse a string\n",
        "a=\"abhishek\"\n",
        "print(a[-1])\n",
        "for i in range(0,len(a)):\n",
        "  print(a[-i])\n",
        "\n",
        "\n"
      ],
      "metadata": {
        "colab": {
          "base_uri": "https://localhost:8080/"
        },
        "id": "QVo9R7yQrTlP",
        "outputId": "c53c742f-b8f2-4317-bffa-953520afb8c5"
      },
      "execution_count": 7,
      "outputs": [
        {
          "output_type": "stream",
          "name": "stdout",
          "text": [
            "k\n",
            "a  \n",
            "k  \n",
            "e  \n",
            "h  \n",
            "s  \n",
            "i  \n",
            "h  \n",
            "b  \n"
          ]
        }
      ]
    },
    {
      "cell_type": "code",
      "source": [
        "def palindrome_no(no):\n",
        "  a=str(no)\n",
        "  return a==a[ ::-1]\n",
        "no=1234\n",
        "palindrome_no(no)"
      ],
      "metadata": {
        "colab": {
          "base_uri": "https://localhost:8080/"
        },
        "id": "aC6TadnotOnJ",
        "outputId": "1513b97c-6aae-4dd2-b421-654e82f615c8"
      },
      "execution_count": 13,
      "outputs": [
        {
          "output_type": "execute_result",
          "data": {
            "text/plain": [
              "False"
            ]
          },
          "metadata": {},
          "execution_count": 13
        }
      ]
    },
    {
      "cell_type": "code",
      "source": [
        "#factorial using loop\n",
        "a=int(input(\"enter a no\"))\n",
        "i=1\n",
        "fact=1\n",
        "while i<=a:\n",
        "  fact*=i\n",
        "  i+=1\n",
        "print(fact)"
      ],
      "metadata": {
        "colab": {
          "base_uri": "https://localhost:8080/"
        },
        "id": "6E21TJQAvtDC",
        "outputId": "d8e6d9ea-7228-4c3d-d293-afe9f6846cda"
      },
      "execution_count": 17,
      "outputs": [
        {
          "output_type": "stream",
          "name": "stdout",
          "text": [
            "enter a no4\n",
            "24\n"
          ]
        }
      ]
    },
    {
      "cell_type": "code",
      "source": [
        "#fact using recursion\n",
        "def fact_no(a):\n",
        "  if a<=1:\n",
        "    return a\n",
        "  else:\n",
        "    return (a*fact_no(a-1))\n",
        "\n",
        "fact_no(4)"
      ],
      "metadata": {
        "colab": {
          "base_uri": "https://localhost:8080/"
        },
        "id": "oVbKtIe5w5Z_",
        "outputId": "c7afa3d9-6d6f-4147-efef-6f577b92cf4a"
      },
      "execution_count": 21,
      "outputs": [
        {
          "output_type": "execute_result",
          "data": {
            "text/plain": [
              "24"
            ]
          },
          "metadata": {},
          "execution_count": 21
        }
      ]
    },
    {
      "cell_type": "code",
      "source": [
        "#fibonacci using recursion\n",
        "def fibonacci(n):\n",
        "    if n <= 1:\n",
        "        return n\n",
        "    return fibonacci(n-1) + fibonacci(n-2)\n",
        "fibonacci(6)"
      ],
      "metadata": {
        "colab": {
          "base_uri": "https://localhost:8080/"
        },
        "id": "EG7aPOwByTO-",
        "outputId": "9d0afdc5-6ad5-41e0-b0df-383c75101949"
      },
      "execution_count": 23,
      "outputs": [
        {
          "output_type": "execute_result",
          "data": {
            "text/plain": [
              "8"
            ]
          },
          "metadata": {},
          "execution_count": 23
        }
      ]
    }
  ]
}